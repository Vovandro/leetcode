{
 "cells": [
  {
   "cell_type": "markdown",
   "metadata": {},
   "source": [
    "Two strings are considered close if you can attain one from the other using the following operations:\n",
    "\n",
    "Operation 1: Swap any two existing characters.\n",
    "For example, abcde -> aecdb\n",
    "Operation 2: Transform every occurrence of one existing character into another existing character, and do the same with the other character.\n",
    "For example, aacabb -> bbcbaa (all a's turn into b's, and all b's turn into a's)\n",
    "You can use the operations on either string as many times as necessary.\n",
    "\n",
    "Given two strings, word1 and word2, return true if word1 and word2 are close, and false otherwise."
   ]
  },
  {
   "cell_type": "code",
   "execution_count": 4,
   "metadata": {
    "ExecuteTime": {
     "end_time": "2021-01-22T19:38:39.433175Z",
     "start_time": "2021-01-22T19:38:39.427707Z"
    }
   },
   "outputs": [],
   "source": [
    "def closeStrings(word1: str, word2: str) -> bool:\n",
    "    if len(word1) != len(word2):\n",
    "        return False\n",
    "  \n",
    "    map_word1 = set(word1)\n",
    "    map_word2 = set(word2)\n",
    "\n",
    "    if map_word1 != map_word2:\n",
    "        return False\n",
    "\n",
    "    map_word1 = [word1.count(key) for key in map_word1]\n",
    "    map_word2 = [word2.count(key) for key in map_word2]\n",
    "  \n",
    "    map_word1.sort()\n",
    "    map_word2.sort()\n",
    "\n",
    "    if map_word1 == map_word2:\n",
    "        return True\n",
    "    return False"
   ]
  },
  {
   "cell_type": "code",
   "execution_count": 6,
   "metadata": {
    "ExecuteTime": {
     "end_time": "2021-01-22T19:39:08.169405Z",
     "start_time": "2021-01-22T19:39:08.164190Z"
    }
   },
   "outputs": [
    {
     "data": {
      "text/plain": [
       "True"
      ]
     },
     "execution_count": 6,
     "metadata": {},
     "output_type": "execute_result"
    }
   ],
   "source": [
    "closeStrings('aab', 'bba')"
   ]
  },
  {
   "cell_type": "code",
   "execution_count": 7,
   "metadata": {
    "ExecuteTime": {
     "end_time": "2021-01-22T19:39:14.240631Z",
     "start_time": "2021-01-22T19:39:14.235333Z"
    }
   },
   "outputs": [
    {
     "data": {
      "text/plain": [
       "False"
      ]
     },
     "execution_count": 7,
     "metadata": {},
     "output_type": "execute_result"
    }
   ],
   "source": [
    "closeStrings('aab', 'bbc')"
   ]
  },
  {
   "cell_type": "markdown",
   "metadata": {},
   "source": [
    "Determine if a 9 x 9 Sudoku board is valid. Only the filled cells need to be validated according to the following rules:\n",
    "\n",
    "Each row must contain the digits 1-9 without repetition.\n",
    "Each column must contain the digits 1-9 without repetition.\n",
    "Each of the nine 3 x 3 sub-boxes of the grid must contain the digits 1-9 without repetition.\n",
    "Note:\n",
    "\n",
    "A Sudoku board (partially filled) could be valid but is not necessarily solvable.\n",
    "Only the filled cells need to be validated according to the mentioned rules."
   ]
  },
  {
   "cell_type": "code",
   "execution_count": 4,
   "metadata": {
    "ExecuteTime": {
     "end_time": "2021-01-24T09:36:46.654981Z",
     "start_time": "2021-01-24T09:36:46.646979Z"
    }
   },
   "outputs": [],
   "source": [
    "from typing import List\n",
    "import numpy as np\n",
    "\n",
    "def isValidSudoku(board: List[List[str]]) -> bool:\n",
    "    board = np.array(board)\n",
    "    for i in range(len(board)):\n",
    "        row = [x for x in board[i] if x != '.']\n",
    "        if len(row) != len(set(row)):\n",
    "            return False\n",
    "\n",
    "    for i in range(len(board[0])):\n",
    "        row = [x for x in board[:, i] if x != '.']\n",
    "        if len(row) != len(set(row)):\n",
    "            return False\n",
    "\n",
    "    for i in range(3):\n",
    "        for j in range(3):\n",
    "            row = board[i*3:(i+1)*3, j*3:(j+1)*3].reshape(1, -1)\n",
    "            row = [x for x in row[0] if x != '.']\n",
    "            if len(row) != len(set(row)):\n",
    "                return False\n",
    "\n",
    "    return True"
   ]
  },
  {
   "cell_type": "code",
   "execution_count": 5,
   "metadata": {
    "ExecuteTime": {
     "end_time": "2021-01-24T09:36:46.825157Z",
     "start_time": "2021-01-24T09:36:46.814124Z"
    }
   },
   "outputs": [
    {
     "data": {
      "text/plain": [
       "False"
      ]
     },
     "execution_count": 5,
     "metadata": {},
     "output_type": "execute_result"
    }
   ],
   "source": [
    "board = \\\n",
    "[[\".\",\".\",\"4\",\".\",\".\",\".\",\"6\",\"3\",\".\"],\n",
    " [\".\",\".\",\".\",\".\",\".\",\".\",\".\",\".\",\".\"],\n",
    " [\"5\",\".\",\".\",\".\",\".\",\".\",\".\",\"9\",\".\"],\n",
    " [\".\",\".\",\".\",\"5\",\"6\",\".\",\".\",\".\",\".\"],\n",
    " [\"4\",\".\",\"3\",\".\",\".\",\".\",\".\",\".\",\"1\"],\n",
    " [\".\",\".\",\".\",\"7\",\".\",\".\",\".\",\".\",\".\"],\n",
    " [\".\",\".\",\".\",\"5\",\".\",\".\",\".\",\".\",\".\"],\n",
    " [\".\",\".\",\".\",\".\",\".\",\".\",\".\",\".\",\".\"],\n",
    " [\".\",\".\",\".\",\".\",\".\",\".\",\".\",\".\",\".\"]]\n",
    "isValidSudoku(board)"
   ]
  },
  {
   "cell_type": "code",
   "execution_count": null,
   "metadata": {},
   "outputs": [],
   "source": []
  }
 ],
 "metadata": {
  "hide_input": false,
  "kernelspec": {
   "display_name": "Python 3",
   "language": "python",
   "name": "python3"
  },
  "language_info": {
   "codemirror_mode": {
    "name": "ipython",
    "version": 3
   },
   "file_extension": ".py",
   "mimetype": "text/x-python",
   "name": "python",
   "nbconvert_exporter": "python",
   "pygments_lexer": "ipython3",
   "version": "3.8.2"
  },
  "toc": {
   "base_numbering": 1,
   "nav_menu": {},
   "number_sections": true,
   "sideBar": true,
   "skip_h1_title": false,
   "title_cell": "Table of Contents",
   "title_sidebar": "Contents",
   "toc_cell": false,
   "toc_position": {},
   "toc_section_display": true,
   "toc_window_display": false
  },
  "varInspector": {
   "cols": {
    "lenName": 16,
    "lenType": 16,
    "lenVar": 40
   },
   "kernels_config": {
    "python": {
     "delete_cmd_postfix": "",
     "delete_cmd_prefix": "del ",
     "library": "var_list.py",
     "varRefreshCmd": "print(var_dic_list())"
    },
    "r": {
     "delete_cmd_postfix": ") ",
     "delete_cmd_prefix": "rm(",
     "library": "var_list.r",
     "varRefreshCmd": "cat(var_dic_list()) "
    }
   },
   "types_to_exclude": [
    "module",
    "function",
    "builtin_function_or_method",
    "instance",
    "_Feature"
   ],
   "window_display": false
  }
 },
 "nbformat": 4,
 "nbformat_minor": 4
}
